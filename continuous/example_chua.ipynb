{
 "cells": [
  {
   "cell_type": "markdown",
   "metadata": {},
   "source": [
    "# Chua's circuit\n",
    "\n",
    "Chua's circuit is a continuous time dynamical system defined by three non-linear ordinary differential equations:\n",
    "\n",
    "$$\\begin{array}{ll}\n",
    "        \\dot{x} & = \\alpha \\left( y-x-f(x) \\right) \\\\\n",
    "        \\dot{y} & = x-y+z \\\\\n",
    "        \\dot{z} & = -\\beta y\n",
    "    \\end{array} \\; , $$\n",
    "    \n",
    "where $f(x) = b \\, x + 0.5(a-b)(|x+1|-|x-1|)$, $(x,y,z) \\in \\mathbb{R}^{3}$ are dynamical variables defining the phase space and $(\\alpha,\\beta,a,b) \\in \\mathbb{R}^{3}$ are parameters. "
   ]
  },
  {
   "cell_type": "code",
   "execution_count": 1,
   "metadata": {},
   "outputs": [],
   "source": [
    "import continuous\n",
    "import matplotlib.pyplot as plt\n",
    "from mpl_toolkits.mplot3d import Axes3D"
   ]
  },
  {
   "cell_type": "markdown",
   "metadata": {},
   "source": [
    "## Chaotic example"
   ]
  },
  {
   "cell_type": "code",
   "execution_count": 2,
   "metadata": {},
   "outputs": [],
   "source": [
    "t, x, y, z = continuous.chua_system(t = 200, dt = 0.01, alpha = 14.6, beta = 28.0, a = -1.143, b = -0.714, xi = 0.75, yi = 0.0, zi = 0.0)\n",
    "ti = 10000\n",
    "tf = 20000"
   ]
  },
  {
   "cell_type": "code",
   "execution_count": null,
   "metadata": {},
   "outputs": [],
   "source": [
    "# Plotting time series\n",
    "plt.figure(num = None, figsize = ((6,6)), dpi = 100)\n",
    "ax1 = plt.subplot(3,1,1)\n",
    "plt.plot(t[ti:tf], x[ti:tf], '-k')\n",
    "plt.ylabel(r\"$x(t)$\")\n",
    "plt.setp(ax1.get_xticklabels(), visible=False)\n",
    "ax2 = plt.subplot(3,1,2,sharex=ax1)\n",
    "plt.plot(t[ti:tf], y[ti:tf], '-k')\n",
    "plt.ylabel(r\"$y(t)$\")\n",
    "plt.setp(ax2.get_xticklabels(), visible=False)\n",
    "ax3 = plt.subplot(3,1,3,sharex=ax1)\n",
    "plt.plot(t[ti:tf], z[ti:tf], '-k')\n",
    "plt.ylabel(r\"$z(t)$\")\n",
    "plt.xlabel(r\"$t$\")\n",
    "plt.xlim(t[ti-1], t[tf-1])\n",
    "plt.show()"
   ]
  },
  {
   "cell_type": "code",
   "execution_count": null,
   "metadata": {},
   "outputs": [],
   "source": [
    "# Plotting attractor\n",
    "fig = plt.figure(num = None, figsize = ((6,6)), dpi = 100)\n",
    "ax  = fig.add_subplot(1, 1, 1, projection = '3d')\n",
    "ax.plot(x[ti:tf], y[ti:tf], z[ti:tf], linewidth = 1, color = 'k')\n",
    "ax.grid( True )\n",
    "ax.set_xlabel(r\"$x(t)$\", labelpad = 10)\n",
    "ax.set_ylabel(r\"$y(t)$\", labelpad = 10)\n",
    "ax.set_zlabel(r\"$z(t)$\", labelpad = 10)\n",
    "ax.view_init(azim = -70)\n",
    "plt.show()"
   ]
  },
  {
   "cell_type": "code",
   "execution_count": null,
   "metadata": {},
   "outputs": [],
   "source": [
    "# Plotting x-y, x-z and y-z projections\n",
    "fig = plt.figure(num = None, figsize = ((12,4)), dpi = 100)\n",
    "ax  = fig.add_subplot(1, 3, 1)\n",
    "ax.plot(x[ti:tf], y[ti:tf], linewidth = 1, color = 'k')\n",
    "ax.set_xlabel(r\"$x(t)$\", labelpad = 10)\n",
    "ax.set_ylabel(r\"$y(t)$\", labelpad = 10)\n",
    "bx  = fig.add_subplot(1, 3, 2)\n",
    "bx.plot(x[ti:tf], z[ti:tf], linewidth = 1, color = 'k')\n",
    "bx.set_xlabel(r\"$x(t)$\", labelpad = 10)\n",
    "bx.set_ylabel(r\"$z(t)$\", labelpad = 10)\n",
    "cx  = fig.add_subplot(1, 3, 3)\n",
    "cx.plot(y[ti:tf], z[ti:tf], linewidth = 1, color = 'k')\n",
    "cx.set_xlabel(r\"$y(t)$\", labelpad = 10)\n",
    "cx.set_ylabel(r\"$z(t)$\", labelpad = 10)\n",
    "plt.subplots_adjust(wspace = 0.3)\n",
    "plt.show()"
   ]
  }
 ],
 "metadata": {
  "kernelspec": {
   "display_name": "Python 3",
   "language": "python",
   "name": "python3"
  },
  "language_info": {
   "codemirror_mode": {
    "name": "ipython",
    "version": 3
   },
   "file_extension": ".py",
   "mimetype": "text/x-python",
   "name": "python",
   "nbconvert_exporter": "python",
   "pygments_lexer": "ipython3",
   "version": "3.6.9"
  }
 },
 "nbformat": 4,
 "nbformat_minor": 2
}
